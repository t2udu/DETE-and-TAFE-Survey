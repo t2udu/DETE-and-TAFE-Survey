{
 "cells": [
  {
   "cell_type": "markdown",
   "metadata": {},
   "source": [
    "The main questions attempted to be answered in this project are\n",
    "\n",
    "1. Are employees who only worked for the institutes for a short period of time resigning due to some kind of dissatisfaction? What about employees who have been there longer?\n",
    "\n",
    "2. Are younger employees resigning due to some kind of dissatisfaction? What about older employees?"
   ]
  },
  {
   "cell_type": "code",
   "execution_count": 1,
   "metadata": {
    "scrolled": true
   },
   "outputs": [
    {
     "data": {
      "text/plain": [
       "Record ID                                                                                                                                                          0\n",
       "Institute                                                                                                                                                          0\n",
       "WorkArea                                                                                                                                                           0\n",
       "CESSATION YEAR                                                                                                                                                     7\n",
       "Reason for ceasing employment                                                                                                                                      1\n",
       "Contributing Factors. Career Move - Public Sector                                                                                                                265\n",
       "Contributing Factors. Career Move - Private Sector                                                                                                               265\n",
       "Contributing Factors. Career Move - Self-employment                                                                                                              265\n",
       "Contributing Factors. Ill Health                                                                                                                                 265\n",
       "Contributing Factors. Maternity/Family                                                                                                                           265\n",
       "Contributing Factors. Dissatisfaction                                                                                                                            265\n",
       "Contributing Factors. Job Dissatisfaction                                                                                                                        265\n",
       "Contributing Factors. Interpersonal Conflict                                                                                                                     265\n",
       "Contributing Factors. Study                                                                                                                                      265\n",
       "Contributing Factors. Travel                                                                                                                                     265\n",
       "Contributing Factors. Other                                                                                                                                      265\n",
       "Contributing Factors. NONE                                                                                                                                       265\n",
       "Main Factor.     Which of these was the main factor for leaving?                                                                                                 589\n",
       "InstituteViews. Topic:1. I feel the senior leadership had a clear vision and direction                                                                            94\n",
       "InstituteViews. Topic:2. I was given access to skills training to help me do my job better                                                                        89\n",
       "InstituteViews. Topic:3. I was given adequate opportunities for personal development                                                                              92\n",
       "InstituteViews. Topic:4. I was given adequate opportunities for promotion within %Institute]Q25LBL%                                                               94\n",
       "InstituteViews. Topic:5. I felt the salary for the job was right for the responsibilities I had                                                                   87\n",
       "InstituteViews. Topic:6. The organisation recognised when staff did good work                                                                                     95\n",
       "InstituteViews. Topic:7. Management was generally supportive of me                                                                                                88\n",
       "InstituteViews. Topic:8. Management was generally supportive of my team                                                                                           94\n",
       "InstituteViews. Topic:9. I was kept informed of the changes in the organisation which would affect me                                                             92\n",
       "InstituteViews. Topic:10. Staff morale was positive within the Institute                                                                                         100\n",
       "InstituteViews. Topic:11. If I had a workplace issue it was dealt with quickly                                                                                   101\n",
       "InstituteViews. Topic:12. If I had a workplace issue it was dealt with efficiently                                                                               105\n",
       "                                                                                                                                                                ... \n",
       "WorkUnitViews. Topic:25. My job allowed me to balance the demands of work and family to my satisfaction                                                           91\n",
       "WorkUnitViews. Topic:26. My supervisor gave me adequate personal recognition and feedback on my performance                                                       96\n",
       "WorkUnitViews. Topic:27. My working environment was satisfactory e.g. sufficient space, good lighting, suitable seating and working area                          92\n",
       "WorkUnitViews. Topic:28. I was given the opportunity to mentor and coach others in order for me to pass on my skills and knowledge prior to my cessation date     93\n",
       "WorkUnitViews. Topic:29. There was adequate communication between staff in my unit                                                                                99\n",
       "WorkUnitViews. Topic:30. Staff morale was positive within my work unit                                                                                            96\n",
       "Induction. Did you undertake Workplace Induction?                                                                                                                 83\n",
       "InductionInfo. Topic:Did you undertake a Corporate Induction?                                                                                                    270\n",
       "InductionInfo. Topic:Did you undertake a Institute Induction?                                                                                                    219\n",
       "InductionInfo. Topic: Did you undertake Team Induction?                                                                                                          262\n",
       "InductionInfo. Face to Face Topic:Did you undertake a Corporate Induction; Category:How it was conducted?                                                        147\n",
       "InductionInfo. On-line Topic:Did you undertake a Corporate Induction; Category:How it was conducted?                                                             147\n",
       "InductionInfo. Induction Manual Topic:Did you undertake a Corporate Induction?                                                                                   147\n",
       "InductionInfo. Face to Face Topic:Did you undertake a Institute Induction?                                                                                       172\n",
       "InductionInfo. On-line Topic:Did you undertake a Institute Induction?                                                                                            147\n",
       "InductionInfo. Induction Manual Topic:Did you undertake a Institute Induction?                                                                                   149\n",
       "InductionInfo. Face to Face Topic: Did you undertake Team Induction; Category?                                                                                   147\n",
       "InductionInfo. On-line Topic: Did you undertake Team Induction?process you undertook and how it was conducted.]                                                  147\n",
       "InductionInfo. Induction Manual Topic: Did you undertake Team Induction?                                                                                         147\n",
       "Workplace. Topic:Did you and your Manager develop a Performance and Professional Development Plan (PPDP)?                                                         94\n",
       "Workplace. Topic:Does your workplace promote a work culture free from all forms of unlawful discrimination?                                                      108\n",
       "Workplace. Topic:Does your workplace promote and practice the principles of employment equity?                                                                   115\n",
       "Workplace. Topic:Does your workplace value the diversity of its employees?                                                                                       116\n",
       "Workplace. Topic:Would you recommend the Institute as an employer to others?                                                                                     121\n",
       "Gender.     What is your Gender?                                                                                                                                 106\n",
       "CurrentAge.     Current Age                                                                                                                                      106\n",
       "Employment Type.     Employment Type                                                                                                                             106\n",
       "Classification.     Classification                                                                                                                               106\n",
       "LengthofServiceOverall. Overall Length of Service at Institute (in years)                                                                                        106\n",
       "LengthofServiceCurrent. Length of Service at current workplace (in years)                                                                                        106\n",
       "Length: 72, dtype: int64"
      ]
     },
     "execution_count": 1,
     "metadata": {},
     "output_type": "execute_result"
    }
   ],
   "source": [
    "import pandas as pd\n",
    "import numpy as np\n",
    "TAFE = pd.read_csv('TAFE.csv', encoding = 'ISO-8859-1')\n",
    "DETE = pd.read_csv('DETE.csv', na_values = 'Not Stated') \n",
    "missing_TAFE = TAFE.isnull().sum()\n",
    "missing_DETE = DETE.isnull().sum()\n",
    "missing_TAFE"
   ]
  },
  {
   "cell_type": "code",
   "execution_count": 2,
   "metadata": {
    "scrolled": true
   },
   "outputs": [
    {
     "data": {
      "text/plain": [
       "ID                                       0\n",
       "SeparationType                           0\n",
       "Cease Date                              34\n",
       "DETE Start Date                         73\n",
       "Role Start Date                         98\n",
       "Position                                 5\n",
       "Classification                         367\n",
       "Region                                 105\n",
       "Business Unit                          696\n",
       "Employment Status                        5\n",
       "Career move to public sector             0\n",
       "Career move to private sector            0\n",
       "Interpersonal conflicts                  0\n",
       "Job dissatisfaction                      0\n",
       "Dissatisfaction with the department      0\n",
       "Physical work environment                0\n",
       "Lack of recognition                      0\n",
       "Lack of job security                     0\n",
       "Work location                            0\n",
       "Employment conditions                    0\n",
       "Maternity/family                         0\n",
       "Relocation                               0\n",
       "Study/Travel                             0\n",
       "Ill Health                               0\n",
       "Traumatic incident                       0\n",
       "Work life balance                        0\n",
       "Workload                                 0\n",
       "None of the above                        0\n",
       "Professional Development                14\n",
       "Opportunities for promotion             87\n",
       "Staff morale                             6\n",
       "Workplace issue                         34\n",
       "Physical environment                     5\n",
       "Worklife balance                         7\n",
       "Stress and pressure support             12\n",
       "Performance of supervisor                9\n",
       "Peer support                            10\n",
       "Initiative                               9\n",
       "Skills                                  11\n",
       "Coach                                   55\n",
       "Career Aspirations                      76\n",
       "Feedback                                30\n",
       "Further PD                              54\n",
       "Communication                            8\n",
       "My say                                  10\n",
       "Information                              6\n",
       "Kept informed                            9\n",
       "Wellness programs                       56\n",
       "Health & Safety                         29\n",
       "Gender                                  24\n",
       "Age                                     11\n",
       "Aboriginal                             806\n",
       "Torres Strait                          819\n",
       "South Sea                              815\n",
       "Disability                             799\n",
       "NESB                                   790\n",
       "dtype: int64"
      ]
     },
     "execution_count": 2,
     "metadata": {},
     "output_type": "execute_result"
    }
   ],
   "source": [
    "missing_DETE"
   ]
  },
  {
   "cell_type": "markdown",
   "metadata": {},
   "source": [
    "# Observation\n",
    " -------------------\n",
    " \n",
    "## TAFE Data\n",
    "\n",
    " 1. Columns pertinent to analysis are the columns relating to current age, length of service, reason for ceasing employment and contributing factors.\n",
    " \n",
    " 2. Contributing factors columns are missing 265 values that could be filled using the topic columns.\n",
    " \n",
    " 3. All columns pertinent to analysis need to be renamed, they are either too long or different from DETE column names or both.\n",
    " \n",
    " 4. There might possibly be a duplication of data, because the 'Record ID' column has some values with multiple counts.\n",
    " \n",
    "## DETE Data\n",
    " \n",
    " 1. Columns pertinent to analysis are similar to the ones for TAFE above, and columns are named appropriately.\n",
    " \n",
    " 2. Contributing factors to resignation columns have 0 missing values, and have categorical data.\n",
    " \n",
    " 3. The age column however has 11 missing values which could be removed if it can't be filled out using other data available.\n",
    " \n",
    " "
   ]
  },
  {
   "cell_type": "code",
   "execution_count": 3,
   "metadata": {
    "scrolled": true
   },
   "outputs": [],
   "source": [
    "# drop columns that aren't relevant to analysis\n",
    "\n",
    "dete_new = DETE.drop(columns = list(DETE.columns[28:43]))\n",
    "tafe_new = TAFE.drop(columns = list(TAFE.columns[17:66]))"
   ]
  },
  {
   "cell_type": "markdown",
   "metadata": {},
   "source": [
    "<font size = 4px>Columns not needed for analysis were removed from the TAFE and DETE dataframe and assigned to the variables tafe_new and dete_new respectively."
   ]
  },
  {
   "cell_type": "code",
   "execution_count": 4,
   "metadata": {},
   "outputs": [
    {
     "data": {
      "text/plain": [
       "Age Retirement                          285\n",
       "Resignation-Other reasons               150\n",
       "Resignation-Other employer               91\n",
       "Resignation-Move overseas/interstate     70\n",
       "Voluntary Early Retirement (VER)         67\n",
       "Ill Health Retirement                    61\n",
       "Other                                    49\n",
       "Contract Expired                         34\n",
       "Termination                              15\n",
       "Name: separationtype, dtype: int64"
      ]
     },
     "execution_count": 4,
     "metadata": {},
     "output_type": "execute_result"
    }
   ],
   "source": [
    "# remove whitespaces and make everything lowercase; make columns with whitespaces that aren't leading or trailing, snake case\n",
    "\n",
    "dete_new.columns = dete_new.columns.str.lower().str.strip().str.replace(' ', '_')\n",
    "    \n",
    "# create a dictionary for renaming the columns of the tafe_new dataframe\n",
    "\n",
    "rename_columns = {'Record ID': 'id','CESSATION YEAR': 'cease_date','Reason for ceasing employment': 'separationtype','Gender. What is your Gender?': 'gender'\n",
    "                  ,'CurrentAge. Current Age': 'age','Employment Type. Employment Type': 'employment_status','Classification. Classification': 'position',\n",
    "                  'LengthofServiceOverall. Overall Length of Service at Institute (in years)': 'institute_service','LengthofServiceCurrent. Length of Service at current workplace (in years)': 'role_service'}\n",
    "\n",
    "# Rename the tafe_new dataframe columns using dictionary\n",
    "\n",
    "tafe_new.rename(columns = rename_columns, inplace = True)\n",
    "dete_new.separationtype.value_counts()"
   ]
  },
  {
   "cell_type": "markdown",
   "metadata": {},
   "source": [
    "<font size = 4px>All columns in the dete_new dataframe had their names converted to lower case; and after trailing and leading whitespaces were removed, they were converted to snake case. \n",
    "\n",
    "Then the tefe_new dataframe columns that needed to be renamed were renamed using the dictionary rename_columns. All this was done to aid in the standardization of the column names of both dataframes, since they will be merged later on for analysis."
   ]
  },
  {
   "cell_type": "code",
   "execution_count": 5,
   "metadata": {},
   "outputs": [
    {
     "data": {
      "text/plain": [
       "Resignation-Other reasons               150\n",
       "Resignation-Other employer               91\n",
       "Resignation-Move overseas/interstate     70\n",
       "Name: separationtype, dtype: int64"
      ]
     },
     "execution_count": 5,
     "metadata": {},
     "output_type": "execute_result"
    }
   ],
   "source": [
    "# Create copies of dataframe that contain records of employees that resigned only\n",
    "\n",
    "filtered = dete_new.separationtype.str.contains('Resignation')\n",
    "dete_updated = dete_new.loc[filtered].copy()\n",
    "tafe_updated = tafe_new.loc[tafe_new.separationtype == 'Resignation'].copy()\n",
    "dete_updated.separationtype.value_counts()"
   ]
  },
  {
   "cell_type": "code",
   "execution_count": 6,
   "metadata": {
    "scrolled": true
   },
   "outputs": [
    {
     "data": {
      "text/plain": [
       "2013    146\n",
       "2012    129\n",
       "2014     22\n",
       "2010      2\n",
       "2006      1\n",
       "Name: cease_date, dtype: int64"
      ]
     },
     "execution_count": 6,
     "metadata": {},
     "output_type": "execute_result"
    }
   ],
   "source": [
    "# Cleaning cease_date and dete_start_date column for dete_updated\n",
    "\n",
    "# Capture the year group from dates\n",
    "dete_updated.cease_date = dete_updated.cease_date.str.extract(r'([0-9]{4})')\n",
    "dete_updated.cease_date.value_counts()"
   ]
  },
  {
   "cell_type": "code",
   "execution_count": 7,
   "metadata": {
    "scrolled": true
   },
   "outputs": [],
   "source": [
    "import matplotlib.pyplot as plt\n",
    "fig,ax = plt.subplots(figsize = (10,10))\n",
    "ax.set_ylim((1950,2015))\n",
    "Figure = dete_updated.dete_start_date.plot(kind = 'box')"
   ]
  },
  {
   "cell_type": "code",
   "execution_count": 8,
   "metadata": {},
   "outputs": [],
   "source": [
    "# replace null values for dete_start_date with role_start_date if possible\n",
    "dete_updated.loc[dete_updated.dete_start_date.isnull(),'dete_start_date'] = dete_updated.loc[dete_updated.dete_start_date.isnull()].role_start_date.copy()\n",
    "\n",
    "# Convert dete_start_date column to Int64\n",
    "dete_updated.dete_start_date = dete_updated.dete_start_date.astype('Int64')\n",
    "\n",
    "# remove rows containing outliers\n",
    "removed_rows = dete_updated.loc[dete_updated.dete_start_date < 1980].index\n",
    "dete_updated.drop(index = removed_rows, inplace = True)"
   ]
  },
  {
   "cell_type": "markdown",
   "metadata": {},
   "source": [
    "<font size = 4px>The date columns for dete_updated and tafe_updated were analysed to see if there were any discrepancies.</font>\n",
    "\n",
    "## dete_updated\n",
    "\n",
    "<font size = 4px>cease_date column values were in a format of xx/xxxx (month/year); so in order to make it possible to calculate the length of time worked from start date to cease date, the year was extracted from the string and converted to an integer.\n",
    "\n",
    "role_start_date was used to replace the one row that had a role_start_date value, and a corresponding null value in dete_start_date. \n",
    "\n",
    "dete_start_date column also had 10 values that showed up on a box plot as outliers, given that the column had 311 vlaues and this represented only about 3.215% of the values; I decided that the impact of removing those rows were statistically negligible.</font>\n",
    "\n",
    "## tafe_updated\n",
    "\n",
    "<font size = 4px>Nothing was found to be suspicious in the date column of tafe_updated, so no changes were made"
   ]
  },
  {
   "cell_type": "code",
   "execution_count": 9,
   "metadata": {},
   "outputs": [],
   "source": [
    "dete_updated['institute_service'] = dete_updated['cease_date'].astype('float') - dete_updated['dete_start_date'].astype('float')\n",
    "dete_updated['institute_service'] = dete_updated['institute_service'].astype('Int64')"
   ]
  },
  {
   "cell_type": "markdown",
   "metadata": {},
   "source": [
    "<font size = 4px>An institute_service column was added to dete_updated, this column contains the length of service in years."
   ]
  },
  {
   "cell_type": "code",
   "execution_count": 10,
   "metadata": {},
   "outputs": [],
   "source": [
    "def update_val(val):\n",
    "    if val == '-':\n",
    "        val = False\n",
    "    elif pd.isnull(val):\n",
    "        val = np.nan\n",
    "    else:\n",
    "        val = True\n",
    "    return val;\n",
    "\n",
    "# apply function above to the two columns in tafe_updated related to dissatisfaction\n",
    "tafe_updated[tafe_updated.columns[10:12]] = tafe_updated[tafe_updated.columns[10:12]].applymap(update_val)"
   ]
  },
  {
   "cell_type": "markdown",
   "metadata": {},
   "source": [
    "<font size = 4px>The function update_val was created to change values in columns job_dissatisfaction and dissatisfaction to boolean values, the reason for this is to be able to use the df.any() method as well as standardize the analysis."
   ]
  },
  {
   "cell_type": "code",
   "execution_count": 11,
   "metadata": {},
   "outputs": [],
   "source": [
    "# Create a list of columns that are indicators of job dissatisfaction in dete_updated\n",
    "\n",
    "dissatisfaction = dete_updated.columns[13:20]\n",
    "dissatisfaction = list(dissatisfaction)\n",
    "dissatisfaction.append(dete_updated.columns[25])\n",
    "dissatisfaction.append(dete_updated.columns[26])\n",
    "\n",
    "# add a column called 'dissatisfied', with values of True if any of the columns that indicate job dissatisfaction are True\n",
    "\n",
    "tafe_updated['dissatisfied'] = tafe_updated[tafe_updated.columns[10:12]].any(axis = 1)\n",
    "dete_updated['dissatisfied'] = dete_updated[dissatisfaction].any(axis = 1)"
   ]
  },
  {
   "cell_type": "code",
   "execution_count": 12,
   "metadata": {},
   "outputs": [],
   "source": [
    "# Assign a copy of resulting dataframe to new variable \n",
    "tafe_final = tafe_updated.copy()\n",
    "dete_final = dete_updated.copy()"
   ]
  },
  {
   "cell_type": "markdown",
   "metadata": {},
   "source": [
    "<font size = 4 px>Columns in the tafe_updated and dete_updated dataframe that indicated job dissactisfaction were used to \n",
    "create a new column called 'dissatisfied' which contained boolean values, the 'dissatisfied' column contains a false value only \n",
    "if all corresponding job dissatisfaction column values in that row were false. The dete_udated and tafe_updated dataframe were \n",
    "then copied and saved to the variables dete_final and tafe_final respectively.</font>  "
   ]
  },
  {
   "cell_type": "code",
   "execution_count": 13,
   "metadata": {},
   "outputs": [],
   "source": [
    "# create a function called dates to extract the years from institute_service in tafe_final dataframe\n",
    "def dates(val):\n",
    "    if pd.isnull(val):\n",
    "        val = np.nan\n",
    "    else:\n",
    "        series = pd.Series(val)\n",
    "        series = series.str.extract(r'([0-9][0-9]?)')\n",
    "        val = series.iloc[0][0]\n",
    "    return val;\n",
    "\n",
    "# Create a function to convert values to float\n",
    "def convert_values(val):\n",
    "    if pd.isnull(val):\n",
    "        val = np.nan\n",
    "    else:\n",
    "        val = float(val)\n",
    "    return val;\n",
    "\n"
   ]
  },
  {
   "cell_type": "code",
   "execution_count": 14,
   "metadata": {},
   "outputs": [
    {
     "name": "stdout",
     "output_type": "stream",
     "text": [
      "Less than 1 year      73\n",
      "02-Jan                64\n",
      "04-Mar                63\n",
      "06-May                33\n",
      "20-Nov                26\n",
      "10-Jul                21\n",
      "More than 20 years    10\n",
      "Name: institute_service, dtype: int64\n"
     ]
    },
    {
     "data": {
      "text/plain": [
       "1     73\n",
       "2     64\n",
       "4     63\n",
       "20    36\n",
       "6     33\n",
       "10    21\n",
       "Name: institute_service, dtype: int64"
      ]
     },
     "execution_count": 14,
     "metadata": {},
     "output_type": "execute_result"
    }
   ],
   "source": [
    "# extract the years from institute_service in tafe_final dataframe\n",
    "print(tafe_final.institute_service.value_counts())\n",
    "tafe_final.institute_service = tafe_final.institute_service.apply(dates)\n",
    "tafe_final.institute_service =tafe_final.institute_service.apply(convert_values)\n",
    "tafe_final.institute_service  = tafe_final.institute_service .astype('Int64')\n",
    "tafe_final.institute_service.value_counts()"
   ]
  },
  {
   "cell_type": "code",
   "execution_count": 15,
   "metadata": {},
   "outputs": [],
   "source": [
    "# Add a column to the tafe_final and dete_final dataframe to distinguish them\n",
    "\n",
    "tafe_final['institute'] = 'TAFE'\n",
    "dete_final['institute'] = 'DETE'"
   ]
  },
  {
   "cell_type": "code",
   "execution_count": 16,
   "metadata": {},
   "outputs": [],
   "source": [
    "# rename columns in tafe_final to aid in joining dataframes\n",
    "\n",
    "# Rename columns in the rename variable to names in the new_name variable\n",
    "rename = tafe_final.columns[-8:-5]\n",
    "rename = list(rename)\n",
    "new_name = ['gender', 'age', 'employment_status']\n",
    "rename_columns = {}\n",
    "count = 0\n",
    "for column in rename:\n",
    "    rename_columns[rename[count]] = new_name[count]\n",
    "    count+=1\n",
    "tafe_final.rename(columns = rename_columns, inplace = True)"
   ]
  },
  {
   "cell_type": "code",
   "execution_count": 17,
   "metadata": {},
   "outputs": [],
   "source": [
    "combined = pd.concat([tafe_final,dete_final],0, sort = True)\n",
    "combined.dropna(axis = 1, thresh = 500, inplace = True)"
   ]
  },
  {
   "cell_type": "code",
   "execution_count": 18,
   "metadata": {},
   "outputs": [],
   "source": [
    "#Change the institute_service column values to conform to the format below\n",
    "# New: Less than 3 years at a company\n",
    "# Experienced: 3-6 years at a company\n",
    "# Established: 7-10 years at a company\n",
    "# Veteran: 11 or more years at a company\n",
    "highest_servicelength = max(combined.institute_service[combined.institute_service.notnull()])\n",
    "new_format = {'New':range(0,3), 'Experienced':range(3,7), 'Established': range(7,11), 'Veteran': range(11,highest_servicelength+1)}\n"
   ]
  },
  {
   "cell_type": "code",
   "execution_count": 19,
   "metadata": {},
   "outputs": [],
   "source": [
    "# Write a function called change_format that groups years of service according to the dictionary new_format above\n",
    "\n",
    "def change_format(val):\n",
    "    if pd.isnull(val):\n",
    "        val = np.nan\n",
    "    else:\n",
    "        for key in new_format:\n",
    "            if val in new_format[key]:\n",
    "                val = key\n",
    "    return val;\n"
   ]
  },
  {
   "cell_type": "code",
   "execution_count": 20,
   "metadata": {},
   "outputs": [],
   "source": [
    " # Apply the function change_format to the column institute_service in the combined dataframe\n",
    " # then assign it to a column called service_cat\n",
    "\n",
    "combined['service_cat'] = combined.institute_service.apply(change_format)\n",
    "\n"
   ]
  },
  {
   "cell_type": "code",
   "execution_count": 21,
   "metadata": {},
   "outputs": [
    {
     "name": "stdout",
     "output_type": "stream",
     "text": [
      "service_cat\n",
      "Established    0.52\n",
      "Experienced    0.34\n",
      "New            0.29\n",
      "Veteran        0.47\n",
      "Name: dissatisfied, dtype: float64\n"
     ]
    }
   ],
   "source": [
    "years_service = pd.pivot_table(combined, index = combined['service_cat'])\n",
    "analysis = round(years_service['dissatisfied'],2)\n",
    "print(analysis)"
   ]
  },
  {
   "cell_type": "code",
   "execution_count": 22,
   "metadata": {},
   "outputs": [
    {
     "data": {
      "text/plain": [
       "<matplotlib.axes._subplots.AxesSubplot at 0x24b8dbd0e10>"
      ]
     },
     "execution_count": 22,
     "metadata": {},
     "output_type": "execute_result"
    },
    {
     "data": {
      "image/png": "[encoded data removed]",
      "text/plain": [
       "<Figure size 432x288 with 1 Axes>"
      ]
     },
     "metadata": {
      "needs_background": "light"
     },
     "output_type": "display_data"
    }
   ],
   "source": [
    "analysis.plot(kind = 'bar')"
   ]
  },
  {
   "cell_type": "markdown",
   "metadata": {},
   "source": [
    "# Years Of Service Analysis\n",
    "\n",
    "Based on the bar chart above, employees of both TAFE and DETE institutes combined have the least percentage of dissatisfied employees amongst employees that have been there for less than 3 years.\n",
    "The highest percentage af dissatisfaction was found amongst employees that have been there for between 7-10 years. But overall there was dissatisfaction found amongst employees that have worked at the company for any length of time."
   ]
  },
  {
   "cell_type": "code",
   "execution_count": 23,
   "metadata": {},
   "outputs": [
    {
     "name": "stderr",
     "output_type": "stream",
     "text": [
      "C:\\Users\\ronal\\Anaconda3\\lib\\site-packages\\scipy\\stats\\stats.py:248: RuntimeWarning: The input array could not be properly checked for nan values. nan values will be ignored.\n",
      "  \"values. nan values will be ignored.\", RuntimeWarning)\n"
     ]
    },
    {
     "data": {
      "text/plain": [
       "age\n",
       "20 or younger     ([TAFE], [9])\n",
       "21  25          ([TAFE], [33])\n",
       "21-25            ([DETE], [29])\n",
       "26  30          ([TAFE], [32])\n",
       "26-30            ([DETE], [35])\n",
       "31  35          ([TAFE], [32])\n",
       "31-35            ([DETE], [29])\n",
       "36  40          ([TAFE], [32])\n",
       "36-40            ([DETE], [41])\n",
       "41  45          ([TAFE], [45])\n",
       "41-45            ([DETE], [48])\n",
       "46  50          ([TAFE], [39])\n",
       "46-50            ([DETE], [42])\n",
       "51-55            ([TAFE], [39])\n",
       "56 or older      ([TAFE], [29])\n",
       "56-60            ([DETE], [23])\n",
       "61 or older      ([DETE], [18])\n",
       "Name: institute, dtype: object"
      ]
     },
     "execution_count": 23,
     "metadata": {},
     "output_type": "execute_result"
    }
   ],
   "source": [
    "# Clean the age column of the combined dataframe\n",
    "# inspect age column\n",
    "from scipy import stats\n",
    "age_institute = combined.pivot_table(index = 'age', aggfunc = stats.mode)['institute']\n",
    "age_institute"
   ]
  },
  {
   "cell_type": "markdown",
   "metadata": {},
   "source": [
    "As seen in the above output, the age column from the tafe dataframe has a different format from dete dataframe, even though the values are the same. The next stage is to convert the unknown character to '-', in order to standardize the data."
   ]
  },
  {
   "cell_type": "code",
   "execution_count": 24,
   "metadata": {},
   "outputs": [
    {
     "data": {
      "text/plain": [
       "'\\x96'"
      ]
     },
     "execution_count": 24,
     "metadata": {},
     "output_type": "execute_result"
    }
   ],
   "source": [
    "# Find the unknown chracter in the age column of the tafe_final dataframe\n",
    "unknown_character = tafe_final.age.value_counts().index[0]\n",
    "unknown_character = unknown_character[3]\n",
    "unknown_character"
   ]
  },
  {
   "cell_type": "code",
   "execution_count": 25,
   "metadata": {},
   "outputs": [
    {
     "data": {
      "text/plain": [
       "41-45            93\n",
       "46-50            81\n",
       "36-40            73\n",
       "51-55            69\n",
       "26-30            67\n",
       "21-25            62\n",
       "31-35            61\n",
       "56 or older      29\n",
       "56-60            23\n",
       "61 or older      18\n",
       "20 or younger    10\n",
       "Name: age, dtype: int64"
      ]
     },
     "execution_count": 25,
     "metadata": {},
     "output_type": "execute_result"
    }
   ],
   "source": [
    "# Replace unknown character with '-' in the age column of combined\n",
    "combined.age = combined.age.str.replace(' ' + unknown_character + ' ','-')\n",
    "combined.age.value_counts()"
   ]
  },
  {
   "cell_type": "markdown",
   "metadata": {},
   "source": [
    "The age column looks is divided into several age group, which gives us a good platform for explicit analysis. However there seems to be a conflict with one institution having an age group of 56-60 and 61 or older, and the other combining the two age groups into 56 or older. \n",
    "\n",
    "For the sake of easy interpretation, the two will be combined combined in the combine dataframe as well."
   ]
  },
  {
   "cell_type": "code",
   "execution_count": 26,
   "metadata": {},
   "outputs": [],
   "source": [
    "# Create a function that'll modify the age column\n",
    "\n",
    "age_range = combined.age.value_counts().index\n",
    "age_list = []\n",
    "for age in age_range[8:10]:\n",
    "    age_list.append(age)\n",
    "new_age = age_range[7]\n",
    "\n",
    "def age_change(age):\n",
    "    if age in age_list:\n",
    "        age = new_age\n",
    "    return age;\n"
   ]
  },
  {
   "cell_type": "code",
   "execution_count": 27,
   "metadata": {},
   "outputs": [
    {
     "data": {
      "text/plain": [
       "41-45            93\n",
       "46-50            81\n",
       "36-40            73\n",
       "56 or older      70\n",
       "51-55            69\n",
       "26-30            67\n",
       "21-25            62\n",
       "31-35            61\n",
       "20 or younger    10\n",
       "Name: age, dtype: int64"
      ]
     },
     "execution_count": 27,
     "metadata": {},
     "output_type": "execute_result"
    }
   ],
   "source": [
    "# Apply function to column\n",
    "# inspect age column to ensure ages were changed\n",
    "combined.age = combined.age.apply(age_change)\n",
    "combined.age.value_counts()"
   ]
  },
  {
   "cell_type": "code",
   "execution_count": 36,
   "metadata": {
    "slideshow": {
     "slide_type": "slide"
    }
   },
   "outputs": [
    {
     "data": {
      "text/plain": [
       "<matplotlib.axes._subplots.AxesSubplot at 0x24b8f703c18>"
      ]
     },
     "execution_count": 36,
     "metadata": {},
     "output_type": "execute_result"
    },
    {
     "data": {
      "image/png": "[encoded data removed]",
      "text/plain": [
       "<Figure size 936x720 with 1 Axes>"
      ]
     },
     "metadata": {
      "needs_background": "light"
     },
     "output_type": "display_data"
    }
   ],
   "source": [
    "# Create a pivot table to analyse the age column\n",
    "Analysis = pd.pivot_table(combined, index = 'age', values = 'dissatisfied')\n",
    "Analysis.plot(kind = 'bar', figsize = (13,10))"
   ]
  },
  {
   "cell_type": "markdown",
   "metadata": {
    "slideshow": {
     "slide_type": "notes"
    }
   },
   "source": [
    "## Age Findings\n",
    "\n",
    "- The group of 18 - 20 year olds has the lowest percentage of dissatisfied individuals.\n",
    "- There is a sharp rise in percentage of dissatisfied individuals from the age range of 18-20 year olds to the age range of 26 - 30 year olds.\n",
    "- The group of 26 - 30 year olds have the highest percentage of dissatisfied individuals, and defines the peak of the bar chart above.\n",
    "- The percentage of dissatisfied individuals gradually declines from the age group of 26 - 30 year olds until the age range of 36 - 40 year olds, at which point it steadily rises until it hits a point close to the peak at the age range of 51 - 55 year olds.\n",
    "- 41 - 45 year olds and 46 - 50 year olds possess similar levels of dissatisfaction.\n",
    "- 51 - 55 year olds and 56 or older possess similar levels of dissatisfaction."
   ]
  },
  {
   "cell_type": "code",
   "execution_count": null,
   "metadata": {},
   "outputs": [],
   "source": []
  }
 ],
 "metadata": {
  "kernelspec": {
   "display_name": "Python 3",
   "language": "python",
   "name": "python3"
  },
  "language_info": {
   "codemirror_mode": {
    "name": "ipython",
    "version": 3
   },
   "file_extension": ".py",
   "mimetype": "text/x-python",
   "name": "python",
   "nbconvert_exporter": "python",
   "pygments_lexer": "ipython3",
   "version": "3.7.6"
  }
 },
 "nbformat": 4,
 "nbformat_minor": 2
}
